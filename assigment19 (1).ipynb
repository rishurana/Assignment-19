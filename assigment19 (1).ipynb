{
  "nbformat": 4,
  "nbformat_minor": 0,
  "metadata": {
    "colab": {
      "name": "assigment19.ipynb",
      "version": "0.3.2",
      "views": {},
      "default_view": {},
      "provenance": []
    },
    "kernelspec": {
      "name": "python3",
      "display_name": "Python 3"
    }
  },
  "cells": [
    {
      "metadata": {
        "id": "HfcNd4EyOspm",
        "colab_type": "code",
        "colab": {
          "autoexec": {
            "startup": false,
            "wait_interval": 0
          }
        }
      },
      "cell_type": "code",
      "source": [
        "question1:- Create a numpy array with 10 elements of the shape(10,1) using np.random and find out the mean of the elements using basic numpy functions.¶"
      ],
      "execution_count": 0,
      "outputs": []
    },
    {
      "metadata": {
        "id": "PKYsF07mPA1c",
        "colab_type": "code",
        "colab": {
          "autoexec": {
            "startup": false,
            "wait_interval": 0
          },
          "base_uri": "https://localhost:8080/",
          "height": 204
        },
        "outputId": "6fe6ec7a-bd31-4952-8994-4201dadc63cc",
        "executionInfo": {
          "status": "ok",
          "timestamp": 1530807480107,
          "user_tz": -330,
          "elapsed": 1831,
          "user": {
            "displayName": "Rishabh Rana",
            "photoUrl": "https://lh3.googleusercontent.com/a/default-user=s128",
            "userId": "116621140639593440878"
          }
        }
      },
      "cell_type": "code",
      "source": [
        "import numpy as np\n",
        "a=np.random.randint(0,100,(10,1))\n",
        "print(\"a= \",a)\n",
        "print(\"mean of a= \",a.mean())"
      ],
      "execution_count": 1,
      "outputs": [
        {
          "output_type": "stream",
          "text": [
            "a=  [[89]\n",
            " [95]\n",
            " [94]\n",
            " [70]\n",
            " [95]\n",
            " [94]\n",
            " [51]\n",
            " [13]\n",
            " [98]\n",
            " [79]]\n",
            "mean of a=  77.8\n"
          ],
          "name": "stdout"
        }
      ]
    },
    {
      "metadata": {
        "id": "PIrIWwgMPE2i",
        "colab_type": "code",
        "colab": {
          "autoexec": {
            "startup": false,
            "wait_interval": 0
          }
        }
      },
      "cell_type": "code",
      "source": [
        "\n",
        "Question2:-Create a numpy array with 20 elements of the shape(20,1) using np.¶\n",
        "random find the variance and standard deviation of the elements"
      ],
      "execution_count": 0,
      "outputs": []
    },
    {
      "metadata": {
        "id": "uIYS_KGTPKSS",
        "colab_type": "code",
        "colab": {
          "autoexec": {
            "startup": false,
            "wait_interval": 0
          },
          "base_uri": "https://localhost:8080/",
          "height": 391
        },
        "outputId": "7e48b978-bc07-4c9a-a843-dc73e9900817",
        "executionInfo": {
          "status": "ok",
          "timestamp": 1530807510226,
          "user_tz": -330,
          "elapsed": 1639,
          "user": {
            "displayName": "Rishabh Rana",
            "photoUrl": "https://lh3.googleusercontent.com/a/default-user=s128",
            "userId": "116621140639593440878"
          }
        }
      },
      "cell_type": "code",
      "source": [
        "import numpy as np\n",
        "a=np.random.randint(0,100,(20,1))\n",
        "print(a)\n",
        "print(\"varience of a = \",a.var())\n",
        "print(\"std. dev = \",a.std())"
      ],
      "execution_count": 2,
      "outputs": [
        {
          "output_type": "stream",
          "text": [
            "[[22]\n",
            " [73]\n",
            " [25]\n",
            " [ 0]\n",
            " [78]\n",
            " [57]\n",
            " [60]\n",
            " [55]\n",
            " [88]\n",
            " [97]\n",
            " [86]\n",
            " [89]\n",
            " [75]\n",
            " [68]\n",
            " [34]\n",
            " [ 2]\n",
            " [63]\n",
            " [62]\n",
            " [34]\n",
            " [13]]\n",
            "varience of a =  849.2475000000001\n",
            "std. dev =  29.141851348189945\n"
          ],
          "name": "stdout"
        }
      ]
    },
    {
      "metadata": {
        "id": "0kCxhDFJPOJC",
        "colab_type": "code",
        "colab": {
          "autoexec": {
            "startup": false,
            "wait_interval": 0
          }
        }
      },
      "cell_type": "code",
      "source": [
        "\n",
        "question 3:- Create a numpy array A of shape(10,20) and B of shape (20,25) using np.random. Print the matrix which is the matrix multiplication of A and B. The shape of the new matrix should be (10,25). Using basic numpy math functions only find the sum of all the elements of the new matrix.¶"
      ],
      "execution_count": 0,
      "outputs": []
    },
    {
      "metadata": {
        "id": "1EQ2TmAOPRxK",
        "colab_type": "code",
        "colab": {
          "autoexec": {
            "startup": false,
            "wait_interval": 0
          },
          "base_uri": "https://localhost:8080/",
          "height": 544
        },
        "outputId": "fef0a6eb-2ce4-4399-bfd9-402fb2ee195e",
        "executionInfo": {
          "status": "ok",
          "timestamp": 1530807541485,
          "user_tz": -330,
          "elapsed": 1937,
          "user": {
            "displayName": "Rishabh Rana",
            "photoUrl": "https://lh3.googleusercontent.com/a/default-user=s128",
            "userId": "116621140639593440878"
          }
        }
      },
      "cell_type": "code",
      "source": [
        "import numpy as np\n",
        "a=np.random.randint(0,100,(10,20),int)\n",
        "b=np.random.randint(0,100,(20,25),int)\n",
        "c=np.matmul(a,b)\n",
        "print(c)\n",
        "print(\"sum of c= \",c.sum())"
      ],
      "execution_count": 3,
      "outputs": [
        {
          "output_type": "stream",
          "text": [
            "[[47450 48092 51456 48367 44852 62032 49185 39849 48221 49793 56292 40116\n",
            "  27655 26048 56140 49737 46972 56704 56973 58893 54757 45996 49773 45573\n",
            "  50671]\n",
            " [54176 55647 60956 48555 44197 61959 41905 46036 55534 59272 60843 44195\n",
            "  36840 26774 63911 52560 45905 60737 62177 55788 61615 46350 51629 53495\n",
            "  47096]\n",
            " [44757 50126 47698 44902 41709 51551 38164 36767 42708 36408 56008 32441\n",
            "  29662 29188 53729 47614 32379 46346 47285 52030 50604 31795 44378 40067\n",
            "  51335]\n",
            " [52503 60840 57392 57887 46155 64488 47404 51567 60532 60863 68244 37999\n",
            "  42276 34179 67579 57702 49436 61491 66398 62375 73122 51600 58273 51012\n",
            "  53239]\n",
            " [54379 54343 59246 56420 49079 69106 53577 46058 59786 52722 61715 43188\n",
            "  34415 30055 66072 49596 48019 66912 57030 63733 65007 50683 54151 49862\n",
            "  48525]\n",
            " [50415 56715 56354 49830 43220 65664 44349 42752 56816 61448 64140 42616\n",
            "  39260 29415 64418 62598 48800 58844 70851 57580 70955 53966 54642 48025\n",
            "  59053]\n",
            " [53839 51686 54953 48499 47800 60854 40170 38074 55507 64945 56091 37810\n",
            "  31358 34640 63874 44012 47555 55424 69749 43879 64366 46885 58484 46685\n",
            "  46231]\n",
            " [36106 36874 44080 37437 34021 45004 27679 31828 40715 49426 40860 28512\n",
            "  27549 22604 50704 38212 38472 44870 53746 40235 48140 37182 49981 33856\n",
            "  26614]\n",
            " [45813 51916 45761 46060 35784 51931 38981 36013 53219 46303 52745 32920\n",
            "  36269 30288 55944 48453 40344 47206 58590 47432 59790 35237 48488 38828\n",
            "  48738]\n",
            " [55640 56216 60200 46359 45110 63332 48335 41397 63649 56212 62247 46220\n",
            "  36501 29325 67524 43147 43910 61478 58584 48025 61603 45788 54212 47142\n",
            "  45021]]\n",
            "sum of c=  12328668\n"
          ],
          "name": "stdout"
        }
      ]
    },
    {
      "metadata": {
        "id": "Zm0r0j5VPVwy",
        "colab_type": "code",
        "colab": {
          "autoexec": {
            "startup": false,
            "wait_interval": 0
          }
        }
      },
      "cell_type": "code",
      "source": [
        "question 4 :- Create a numpy array A of shape(10,1),Apply this function f(x)=1 / (1 + exp(-x)) to each element of ##A and print the new array holding the value the function returns¶"
      ],
      "execution_count": 0,
      "outputs": []
    },
    {
      "metadata": {
        "id": "DHCVXLWCPbZW",
        "colab_type": "code",
        "colab": {
          "autoexec": {
            "startup": false,
            "wait_interval": 0
          },
          "base_uri": "https://localhost:8080/",
          "height": 187
        },
        "outputId": "26925c05-3970-436f-c1cb-be7b0f9fa28e",
        "executionInfo": {
          "status": "ok",
          "timestamp": 1530807580656,
          "user_tz": -330,
          "elapsed": 1286,
          "user": {
            "displayName": "Rishabh Rana",
            "photoUrl": "https://lh3.googleusercontent.com/a/default-user=s128",
            "userId": "116621140639593440878"
          }
        }
      },
      "cell_type": "code",
      "source": [
        "import numpy as np\n",
        "a=np.random.randint(0,100,(10,1))\n",
        "def fun(x):\n",
        "    y=1/(1+np.exp(-x))\n",
        "    return y\n",
        "list=[]\n",
        "for x in a:\n",
        "    list.append(fun(x))\n",
        "b=np.array(list)\n",
        "print(b)"
      ],
      "execution_count": 4,
      "outputs": [
        {
          "output_type": "stream",
          "text": [
            "[[1.]\n",
            " [1.]\n",
            " [1.]\n",
            " [1.]\n",
            " [1.]\n",
            " [1.]\n",
            " [1.]\n",
            " [1.]\n",
            " [1.]\n",
            " [1.]]\n"
          ],
          "name": "stdout"
        }
      ]
    }
  ]
}